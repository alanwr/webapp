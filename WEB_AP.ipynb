{
  "nbformat": 4,
  "nbformat_minor": 0,
  "metadata": {
    "colab": {
      "provenance": [],
      "authorship_tag": "ABX9TyN7HIpGvlNZgRRYll2ZLhI7",
      "include_colab_link": true
    },
    "kernelspec": {
      "name": "python3",
      "display_name": "Python 3"
    },
    "language_info": {
      "name": "python"
    }
  },
  "cells": [
    {
      "cell_type": "markdown",
      "metadata": {
        "id": "view-in-github",
        "colab_type": "text"
      },
      "source": [
        "<a href=\"https://colab.research.google.com/github/alanwr/webapp/blob/main/WEB_AP.ipynb\" target=\"_parent\"><img src=\"https://colab.research.google.com/assets/colab-badge.svg\" alt=\"Open In Colab\"/></a>"
      ]
    },
    {
      "cell_type": "code",
      "execution_count": null,
      "metadata": {
        "id": "GhaFbefVyXtm"
      },
      "outputs": [],
      "source": [
        "!pip install streamlit"
      ]
    },
    {
      "cell_type": "code",
      "source": [
        "%%writefile app.py \n",
        "import streamlit as st\n",
        "import pandas as pd \n",
        "import numpy as np\n",
        "import matplotlib.pyplot as plt\n",
        "\n",
        "st.set_option('deprecation.showPyplotGlobalUse', False)\n",
        "\n",
        "st.sidebar.title(\"ISSO É UM TESTE\")\n",
        "\n",
        "st.title(\"Análise estatística\")\n",
        "\n",
        "# Adicionando o selectbox à sidebar\n",
        "st.sidebar.title(\"TESTE\")\n",
        "opcoes = ['BB - Fechou Fora, Fechou Dentro', 'Canal de Keltner', 'Cão Farejador', 'Cruzamento Di+ Di-', 'Cruzamento MMA 17x34', 'Dave Landry', \n",
        "'Estocástico Lento 70x30', 'Estocástico Lento 80x20', 'Gambitti', 'Gasparini', 'HiLo 7 períodos', 'IFR2 (Larry Connors)', \n",
        "'IFR2 com filtro IFR14', 'IFR4 (Larry Connors)', 'InsideBar', 'Joe Biden (com filtro MMA 20)', 'Joe Biden (sem filtros)', \n",
        "'Linha das sombras', 'Máximas e Mínimas', 'Medias 3 min/max ( Larry Williams)', 'Perdigão', 'Preço de Fechamento de Reversão', \n",
        "'Sistema MMA 9', 'Stop ATR 10 períodos', 'Terminator (Larry Connors)', 'Tik Tok (com filtro)', 'TikTok', 'Turtle' ]\n",
        "opcao_selecionada = st.sidebar.selectbox(\"Escolha uma opção:\", opcoes)\n",
        "\n",
        "st.sidebar.title(\"Time Frame\")\n",
        "time_frame = st.sidebar.selectbox(\"Escolha o Time Frame\", [\"Diário\", \"60 m\"])\n",
        "\n",
        "# Adicionando campos de data\n",
        "st.sidebar.title(\"Período\")\n",
        "data_inicio = st.sidebar.date_input(\"Data início\")\n",
        "data_fim = st.sidebar.date_input(\"Data término\")\n"
      ],
      "metadata": {
        "colab": {
          "base_uri": "https://localhost:8080/"
        },
        "id": "ndCDe3LhydNQ",
        "outputId": "b226108a-7f83-427c-f0c6-7bb50703640c"
      },
      "execution_count": 8,
      "outputs": [
        {
          "output_type": "stream",
          "name": "stdout",
          "text": [
            "Overwriting app.py\n"
          ]
        }
      ]
    },
    {
      "cell_type": "code",
      "source": [
        "!streamlit run app.py & npx localtunnel --port 8501"
      ],
      "metadata": {
        "colab": {
          "base_uri": "https://localhost:8080/"
        },
        "id": "x9Cdqep0y-r9",
        "outputId": "7ecc9496-f21b-458c-d033-0e1383cb976c"
      },
      "execution_count": 9,
      "outputs": [
        {
          "output_type": "stream",
          "name": "stdout",
          "text": [
            "[############......] - refresh-package-json:localtunnel: timing action:finalize\u001b[0m\u001b[K\n",
            "Collecting usage statistics. To deactivate, set browser.gatherUsageStats to False.\n",
            "\u001b[0m\n",
            "\u001b[K\u001b[?25hnpx: installed 22 in 2.002s\n",
            "\u001b[0m\n",
            "\u001b[34m\u001b[1m  You can now view your Streamlit app in your browser.\u001b[0m\n",
            "\u001b[0m\n",
            "\u001b[34m  Network URL: \u001b[0m\u001b[1mhttp://172.28.0.12:8501\u001b[0m\n",
            "\u001b[34m  External URL: \u001b[0m\u001b[1mhttp://35.204.149.203:8501\u001b[0m\n",
            "\u001b[0m\n",
            "your url is: https://two-lies-speak-35-204-149-203.loca.lt\n",
            "\u001b[34m  Stopping...\u001b[0m\n",
            "^C\n"
          ]
        }
      ]
    },
    {
      "cell_type": "code",
      "source": [],
      "metadata": {
        "id": "RHjHMflky_rs"
      },
      "execution_count": null,
      "outputs": []
    }
  ]
}